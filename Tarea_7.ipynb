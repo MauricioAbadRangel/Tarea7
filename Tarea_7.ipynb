{
  "nbformat": 4,
  "nbformat_minor": 0,
  "metadata": {
    "colab": {
      "name": "Tarea 7.ipynb",
      "provenance": [],
      "authorship_tag": "ABX9TyMZiNVyZUi77x7lJeAKvPBO",
      "include_colab_link": true
    },
    "kernelspec": {
      "name": "python3",
      "display_name": "Python 3"
    },
    "language_info": {
      "name": "python"
    }
  },
  "cells": [
    {
      "cell_type": "markdown",
      "metadata": {
        "id": "view-in-github",
        "colab_type": "text"
      },
      "source": [
        "<a href=\"https://colab.research.google.com/github/MauricioAbadRangel/Tarea7/blob/main/Tarea_7.ipynb\" target=\"_parent\"><img src=\"https://colab.research.google.com/assets/colab-badge.svg\" alt=\"Open In Colab\"/></a>"
      ]
    },
    {
      "cell_type": "code",
      "metadata": {
        "colab": {
          "base_uri": "https://localhost:8080/"
        },
        "id": "AqsnIEmrf10O",
        "outputId": "82ba68e0-377b-452e-ff5f-2a8e8d640acf"
      },
      "source": [
        "#Problema 3.1\n",
        "\n",
        "sumPar=0\n",
        "sumaImp=0\n",
        "cuentaPar=0\n",
        "num=0\n",
        "i=1\n",
        "while i<=270:\n",
        "    num = i \n",
        "    if num>0:\n",
        "        if  num%2!=0:\n",
        "            sumPar=sumPar+cuentaPar \n",
        "            cuentaPar = cuentaPar + 1\n",
        "        else: sumaImp=sumaImp+num\n",
        "    i=i+1\n",
        "promedioPar = sumPar / cuentaPar\n",
        "print(f\"Este es el promedio de los pares {promedioPar} y esta es la suma de los impares {sumaImp}\")"
      ],
      "execution_count": 1,
      "outputs": [
        {
          "output_type": "stream",
          "name": "stdout",
          "text": [
            "Este es el promedio de los pares 67.0 y esta es la suma de los impares 18360\n"
          ]
        }
      ]
    },
    {
      "cell_type": "code",
      "metadata": {
        "id": "w5sYaeGtgNkE"
      },
      "source": [
        "# 3.2\n",
        "\n",
        "band='T'\n",
        "i=2\n",
        "sumser=0\n",
        "while i<=1800:\n",
        "    sumser=sumser+i\n",
        "    print(i)\n",
        "    if band=='T':\n",
        "        band='F'\n",
        "        i=i+3\n",
        "    else:\n",
        "        band='T'\n",
        "        i=i+2\n",
        "print(f\"La suma es {sumser}\")"
      ],
      "execution_count": null,
      "outputs": []
    },
    {
      "cell_type": "code",
      "metadata": {
        "colab": {
          "base_uri": "https://localhost:8080/"
        },
        "id": "V0ZrgS3qgQ2V",
        "outputId": "31a5c832-a22b-4479-a995-b7c897d62a9d"
      },
      "source": [
        "# 3.3\n",
        "\n",
        "n=int(input(\"Dame un numero entero: \"))\n",
        "band='T'\n",
        "serie = 0\n",
        "i=1\n",
        "while i<=n:\n",
        "    if band=='T':\n",
        "        serie=serie+(1/i)\n",
        "        band='F'\n",
        "    else: \n",
        "        serie=serie-(1/i)\n",
        "        band='T'\n",
        "    i=i+1\n",
        "print(serie)"
      ],
      "execution_count": 4,
      "outputs": [
        {
          "output_type": "stream",
          "name": "stdout",
          "text": [
            "Dame un numero entero: 8\n",
            "0.6345238095238095\n"
          ]
        }
      ]
    },
    {
      "cell_type": "code",
      "metadata": {
        "colab": {
          "base_uri": "https://localhost:8080/"
        },
        "id": "PVMTRROygWlu",
        "outputId": "006d6eec-4898-4782-857e-a88eb04097ba"
      },
      "source": [
        "# 3.4\n",
        "\n",
        "nom=0\n",
        "nominas=[855,760.32,1100.2,614,2600,817.5,1280.3,687,-1]\n",
        "i=0\n",
        "while nominas[i] > -1:\n",
        "    if nominas[i] < 1000:\n",
        "        nsue=round(nominas[i]*1.15,2)\n",
        "    else:\n",
        "        nsue=round(nominas[i]*1.12,2)\n",
        "    nom=round(nom+nsue,2)\n",
        "    i=i+1\n",
        "    print(f\"El nuevo sueldo del trabajador es {nsue}\")\n",
        "print(f\"La nomina es {nom}\")"
      ],
      "execution_count": 5,
      "outputs": [
        {
          "output_type": "stream",
          "name": "stdout",
          "text": [
            "El nuevo sueldo del trabajador es 983.25\n",
            "El nuevo sueldo del trabajador es 874.37\n",
            "El nuevo sueldo del trabajador es 1232.22\n",
            "El nuevo sueldo del trabajador es 706.1\n",
            "El nuevo sueldo del trabajador es 2912.0\n",
            "El nuevo sueldo del trabajador es 940.12\n",
            "El nuevo sueldo del trabajador es 1433.94\n",
            "El nuevo sueldo del trabajador es 790.05\n",
            "La nomina es 9872.05\n"
          ]
        }
      ]
    }
  ]
}